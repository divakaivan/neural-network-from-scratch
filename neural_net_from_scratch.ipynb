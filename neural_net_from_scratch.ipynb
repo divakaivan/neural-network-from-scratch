{
  "cells": [
    {
      "cell_type": "code",
      "execution_count": 3,
      "metadata": {
        "id": "S2h3va3vNIaG"
      },
      "outputs": [],
      "source": [
        "import torch\n",
        "import torch.nn.functional as F\n",
        "import matplotlib.pyplot as plt\n",
        "%matplotlib inline\n",
        "\n",
        "import random\n",
        "import numpy as np"
      ]
    },
    {
      "cell_type": "markdown",
      "metadata": {
        "id": "ynNAdEfMawQJ"
      },
      "source": [
        "# Load data"
      ]
    },
    {
      "cell_type": "code",
      "execution_count": 4,
      "metadata": {
        "colab": {
          "base_uri": "https://localhost:8080/"
        },
        "id": "1C9CxnP3NVqm",
        "outputId": "002faf7e-eee2-4e67-ced1-c5b6675e5d46"
      },
      "outputs": [
        {
          "name": "stdout",
          "output_type": "stream",
          "text": [
            "idx_to_char={1: 'a', 2: 'b', 3: 'c', 4: 'd', 5: 'e', 6: 'f', 7: 'g', 8: 'h', 9: 'i', 10: 'j', 11: 'k', 12: 'l', 13: 'm', 14: 'n', 15: 'o', 16: 'p', 17: 'q', 18: 'r', 19: 's', 20: 't', 21: 'u', 22: 'v', 23: 'w', 24: 'x', 25: 'y', 26: 'z', 0: '.'}\n",
            "vocab_size=27\n"
          ]
        }
      ],
      "source": [
        "file_path = 'names_v2.txt'\n",
        "# https://www.kaggle.com/datasets/kaggle/us-baby-names?select=NationalNames.csv\n",
        "words = open(file_path, 'r').read().splitlines()\n",
        "chars = sorted(list(set(''.join(words))))\n",
        "char_to_idx = {char: idx+1 for idx, char in enumerate(chars)}\n",
        "char_to_idx['.'] = 0\n",
        "idx_to_char = {idx: char for char, idx in char_to_idx.items()}\n",
        "vocab_size = len(idx_to_char)\n",
        "\n",
        "print(f'{idx_to_char=}\\n{vocab_size=}')"
      ]
    },
    {
      "cell_type": "markdown",
      "metadata": {
        "id": "IX6v-4oGazWx"
      },
      "source": [
        "# Create dataloader"
      ]
    },
    {
      "cell_type": "code",
      "execution_count": 5,
      "metadata": {
        "id": "mO4Z9s96ab3N"
      },
      "outputs": [],
      "source": [
        "def build_dataset(words, char_to_idx, context_size=3):\n",
        "  X, Y = [], []\n",
        "\n",
        "  for w in words:\n",
        "    context = [0] * context_size\n",
        "    for char in w + '.':\n",
        "      idx = char_to_idx[char]\n",
        "      X.append(context)\n",
        "      Y.append(idx)\n",
        "      context = context[1:] + [idx]\n",
        "\n",
        "  X = torch.tensor(X)\n",
        "  Y = torch.tensor(Y)\n",
        "  print(f'{X.shape=}, {Y.shape=}')\n",
        "  return X, Y"
      ]
    },
    {
      "cell_type": "code",
      "execution_count": 48,
      "metadata": {
        "colab": {
          "base_uri": "https://localhost:8080/"
        },
        "id": "_KTYd2aqbfAd",
        "outputId": "238669a4-0cbf-43b7-a9cb-bbf6566377fe"
      },
      "outputs": [
        {
          "name": "stdout",
          "output_type": "stream",
          "text": [
            "X.shape=torch.Size([565657, 6]), Y.shape=torch.Size([565657])\n",
            "X.shape=torch.Size([141540, 6]), Y.shape=torch.Size([141540])\n"
          ]
        }
      ],
      "source": [
        "context_size = 6\n",
        "train_size = 0.80\n",
        "\n",
        "random.seed(42)\n",
        "random.shuffle(words)\n",
        "split = int(train_size * len(words))\n",
        "X_train, y_train = build_dataset(words[:split], char_to_idx, context_size=context_size)\n",
        "X_valid, y_valid = build_dataset(words[split:], char_to_idx, context_size=context_size)"
      ]
    },
    {
      "cell_type": "markdown",
      "metadata": {
        "id": "fKwbe46xer9m"
      },
      "source": [
        "# Model architecture"
      ]
    },
    {
      "cell_type": "code",
      "execution_count": 81,
      "metadata": {
        "colab": {
          "base_uri": "https://localhost:8080/"
        },
        "id": "5h8jRP7HerdB",
        "outputId": "324283cf-ce0f-45c6-a6cf-bfd06dc943cb"
      },
      "outputs": [
        {
          "name": "stdout",
          "output_type": "stream",
          "text": [
            "# of params: 107,739\n"
          ]
        }
      ],
      "source": [
        "emb_size = 64\n",
        "hidden_size = 256\n",
        "\n",
        "generator = torch.Generator().manual_seed(2147483647)\n",
        "char_emb = torch.randn((vocab_size, emb_size), generator=generator)\n",
        "# Layer 1\n",
        "W1 = torch.randn((emb_size * context_size, hidden_size), generator=generator) * (5/3)/((emb_size * context_size)**0.5)\n",
        "b1 = torch.randn(hidden_size, generator=generator) * 0.1\n",
        "# Layer 2\n",
        "W2 = torch.randn((hidden_size, vocab_size), generator=generator) * 0.1\n",
        "b2 = torch.randn(vocab_size, generator=generator) * 0.1\n",
        "# Batch Norm\n",
        "batch_norm_scale = torch.randn((1, hidden_size)) * 0.1 + 1.0\n",
        "batch_norm_shift = torch.randn((1, hidden_size)) * 0.1\n",
        "\n",
        "parameters = [char_emb, W1, b1, W2, b2, batch_norm_scale, batch_norm_shift]\n",
        "print(f'# of params: {sum(param.nelement() for param in parameters):,}')"
      ]
    },
    {
      "cell_type": "code",
      "execution_count": 82,
      "metadata": {
        "colab": {
          "base_uri": "https://localhost:8080/"
        },
        "id": "7rof6Kp9d51O",
        "outputId": "2e86e619-78b5-459b-ddf0-dd30c65dc05b"
      },
      "outputs": [
        {
          "name": "stdout",
          "output_type": "stream",
          "text": [
            "(0/200000) 3.43349\n",
            "(10000/200000) 2.32297\n",
            "(20000/200000) 2.10526\n",
            "(30000/200000) 2.79503\n",
            "(40000/200000) 2.15389\n",
            "(50000/200000) 2.15833\n",
            "(60000/200000) 2.28641\n",
            "(70000/200000) 2.22962\n",
            "(80000/200000) 2.02574\n",
            "(90000/200000) 2.13992\n",
            "(100000/200000) 1.86943\n",
            "(110000/200000) 2.16934\n",
            "(120000/200000) 1.83136\n",
            "(130000/200000) 2.25810\n",
            "(140000/200000) 2.09214\n",
            "(150000/200000) 2.33142\n",
            "(160000/200000) 2.05065\n",
            "(170000/200000) 2.08573\n",
            "(180000/200000) 2.06263\n",
            "(190000/200000) 2.05408\n"
          ]
        }
      ],
      "source": [
        "for param in parameters:\n",
        "    param.requires_grad = True\n",
        "\n",
        "max_steps = 200000\n",
        "batch_size = 32\n",
        "n = batch_size\n",
        "lossi = []\n",
        "\n",
        "with torch.no_grad():\n",
        "  for step in range(max_steps):\n",
        "\n",
        "    # mini batch embedding\n",
        "    mini_batch = torch.randint(0, X_train.shape[0], (batch_size, ), generator=generator) # (batch_size)\n",
        "    X_batch, y_batch = X_train[mini_batch], y_train[mini_batch] # (batch_size, context_size) (batch_size)\n",
        "\n",
        "    # forward pass\n",
        "    emb = char_emb[X_batch] # emb: (batch_size, context_size, emb_size)  char_emb: (vocab_size, emb_size)\n",
        "    flatten_emb = emb.view(emb.shape[0], -1) # (batch_size, context_size*emb_size)\n",
        "    # Linear layer 1\n",
        "    pre_batch_norm = flatten_emb @ W1 + b1 # (batch_size, hidden_size) = (batch_size, context_size*emb_size) @ (context_size*emb_size, hidden_size)\n",
        "    # Batch Norm 1\n",
        "    batch_norm_mean = pre_batch_norm.mean(0, keepdim=True) # (1, hidden_size)\n",
        "    batch_norm_var = pre_batch_norm.var(0, keepdim=True, unbiased=True) # (1, hidden_size)\n",
        "    batch_norm_var_inv = (batch_norm_var + 1e-5)**-0.5 # (1, hidden_size)\n",
        "    batch_norm_raw = (pre_batch_norm - batch_norm_mean) * batch_norm_var_inv # (batch_size, hidden_size)\n",
        "    Z = batch_norm_scale * batch_norm_raw + batch_norm_shift # (batch_size, hidden_size)\n",
        "    # Activation 1\n",
        "    A = torch.tanh(Z) # (batch_size, hidden_size)\n",
        "    # Linear layer 2\n",
        "    logits = A @ W2 + b2 # (batch_size, vocab_size) = (batch_size, hidden_size) @ (hidden_size, vocab_size) + (vocab_size)\n",
        "\n",
        "    # Loss\n",
        "    loss = F.cross_entropy(logits, y_batch)\n",
        "\n",
        "    # backward pass\n",
        "    for param in parameters:\n",
        "      param.grad = None\n",
        "    d_logits = F.softmax(logits, 1)\n",
        "    d_logits[range(n), y_batch] -= 1\n",
        "    d_logits /= n # (batch_size, vocab_size)\n",
        "    # Layer 2\n",
        "    d_A = d_logits @ W2.T # (batch_size, hidden_size) = (batch_size, vocab_size) @ (vocab_size, hidden_size)\n",
        "    d_W2 = A.T @ d_logits # (hidden_size, vocab_size) = (hidden_size, batch_size) @ (batch_size, vocab_size)\n",
        "    d_b2 = d_logits.sum(0) # (vocab_size)\n",
        "    d_Z = (1.0 - A) * d_A # (batch_size, hidden_size)\n",
        "    # Batch norm\n",
        "    d_batch_norm_scale = (batch_norm_raw * d_Z).sum(0, keepdim=True) # (1, hidden_size)\n",
        "    d_batch_norm_shift = d_Z.sum(0, keepdim=True) # (1, hidden_size)\n",
        "    d_pre_batch_norm = batch_norm_scale * batch_norm_var_inv/n * (n*d_Z - d_Z.sum(0) - n/(n-1)*batch_norm_raw*(d_Z*batch_norm_raw).sum(0)) # (batch_size, hidden_size)\n",
        "    # Layer 1\n",
        "    d_flatten_emb = d_pre_batch_norm @ W1.T # (batch_size, emb_size*context_size) = (batch_size, hidden_size) @ (hidden_size, emb_size*context_size)\n",
        "    d_W1 = flatten_emb.T @ d_pre_batch_norm # (emb_size*context_size, hidden_size) = (emb_size*context_size, batch_size) @ (batch_size, hidden_size)\n",
        "    d_b1 = d_pre_batch_norm.sum(0) # (hidden_size)\n",
        "    # mini batch embedding\n",
        "    d_emb = d_flatten_emb.view(emb.shape) # (batch_size, context_size, emb_size)\n",
        "    d_char_emb = torch.zeros_like(char_emb) # (vocab_size, emb_size)\n",
        "    for k in range(X_batch.shape[0]):\n",
        "      for j in range(X_batch.shape[1]):\n",
        "        idx = X_batch[k, j]\n",
        "        d_char_emb[idx] += d_emb[k, j]\n",
        "\n",
        "    grads = [d_char_emb, d_W1, d_b1, d_W2, d_b2, d_batch_norm_scale, d_batch_norm_shift]\n",
        "\n",
        "    lr = 0.05 if step < 100000 else 0.001\n",
        "    for param, grad in zip(parameters, grads):\n",
        "      param.data += -lr * grad\n",
        "\n",
        "    if step % 10000 == 0:\n",
        "      print(f'({step}/{max_steps}) {loss.item():.5f}')\n",
        "\n",
        "    lossi.append(loss.log10().item())\n"
      ]
    },
    {
      "cell_type": "markdown",
      "metadata": {
        "id": "ED74rjO9eeQZ"
      },
      "source": [
        "# Plot loss"
      ]
    },
    {
      "cell_type": "code",
      "execution_count": 83,
      "metadata": {
        "colab": {
          "base_uri": "https://localhost:8080/",
          "height": 448
        },
        "id": "4E56NxZRMNT0",
        "outputId": "1a76fe67-526f-4e09-fb05-93c70bc6e813"
      },
      "outputs": [
        {
          "data": {
            "text/plain": [
              "[<matplotlib.lines.Line2D at 0x7874edfbe2f0>]"
            ]
          },
          "execution_count": 83,
          "metadata": {},
          "output_type": "execute_result"
        },
        {
          "data": {
            "image/png": "[encoded data removed]",
            "text/plain": [
              "<Figure size 640x480 with 1 Axes>"
            ]
          },
          "metadata": {},
          "output_type": "display_data"
        }
      ],
      "source": [
        "plt.plot(torch.tensor(lossi).view(-1, 1000).mean(1))"
      ]
    },
    {
      "cell_type": "code",
      "execution_count": 84,
      "metadata": {
        "id": "tjXlHzGyqsFT"
      },
      "outputs": [],
      "source": [
        "# calibrate the batch norm at the end of training\n",
        "with torch.no_grad():\n",
        "  emb = char_emb[X_train]\n",
        "  flatten_emb = emb.view(emb.shape[0], -1)\n",
        "  Z = flatten_emb @ W1 + b1\n",
        "  batch_norm_mean = Z.mean(0, keepdim=True)\n",
        "  batch_norm_var = Z.var(0, keepdim=True, unbiased=True)"
      ]
    },
    {
      "cell_type": "code",
      "execution_count": 85,
      "metadata": {
        "colab": {
          "base_uri": "https://localhost:8080/"
        },
        "id": "dqD5DCur8NYU",
        "outputId": "58b95392-055a-4459-81c8-083a6d29db2f"
      },
      "outputs": [
        {
          "name": "stdout",
          "output_type": "stream",
          "text": [
            "train 2.13602614402771\n",
            "valid 2.141263246536255\n"
          ]
        }
      ],
      "source": [
        "@torch.no_grad()\n",
        "def split_loss(split):\n",
        "  X, y = {\n",
        "      'train': (X_train, y_train),\n",
        "      'valid': (X_valid, y_valid)\n",
        "  }[split]\n",
        "  emb = char_emb[X]\n",
        "  flatten_emb = emb.view(emb.shape[0], -1)\n",
        "  Z = flatten_emb @ W1 + b1\n",
        "  Z = batch_norm_scale * (Z - batch_norm_mean) * (batch_norm_var + 1e-5)**-0.5 + batch_norm_shift\n",
        "  A = torch.tanh(Z)\n",
        "  logits = A @ W2 + b2\n",
        "  loss = F.cross_entropy(logits, y)\n",
        "  print(split, loss.item())\n",
        "\n",
        "split_loss('train')\n",
        "split_loss('valid')"
      ]
    },
    {
      "cell_type": "markdown",
      "metadata": {
        "id": "WLMHwz-Heibb"
      },
      "source": [
        "# Generate names"
      ]
    },
    {
      "cell_type": "code",
      "execution_count": 86,
      "metadata": {
        "colab": {
          "base_uri": "https://localhost:8080/"
        },
        "id": "odROJTya9At-",
        "outputId": "c0a03905-c409-4adf-a8b3-3a80c5f6694f"
      },
      "outputs": [
        {
          "name": "stdout",
          "output_type": "stream",
          "text": [
            "cybinteefhi.\n",
            "lyndyea.\n",
            "tumiaa.\n",
            "ertaicra.\n",
            "melutie.\n",
            "zlica.\n",
            "jatanna.\n",
            "kaiaber.\n",
            "lianna.\n",
            "tavon.\n",
            "sanibara.\n",
            "bredancy.\n",
            "evaanis.\n",
            "chana.\n",
            "daline.\n",
            "aniva.\n",
            "catashna.\n",
            "gunnie.\n",
            "rantyus.\n",
            "caudreona.\n",
            "tylere.\n",
            "jonixan.\n",
            "colhen.\n",
            "colonn.\n",
            "safen.\n",
            "geerica.\n",
            "aereksaa.\n",
            "romcia.\n",
            "dalino.\n",
            "jackiyauga.\n",
            "malisya.\n",
            "kemsa.\n",
            "cofene.\n",
            "jahnady.\n",
            "vayana.\n",
            "jomnoreles.\n",
            "ayanna.\n",
            "don.\n",
            "kalis.\n",
            "zusian.\n",
            "armardy.\n",
            "alteika.\n",
            "delin.\n",
            "daline.\n",
            "kait.\n",
            "dilylina.\n",
            "donella.\n",
            "lynnie.\n",
            "jasquion.\n",
            "nahnaha.\n"
          ]
        }
      ],
      "source": [
        "generator = torch.Generator()\n",
        "\n",
        "with torch.no_grad():\n",
        "  for _ in range(50):\n",
        "\n",
        "    out = []\n",
        "    context = [0] * context_size\n",
        "    while True:\n",
        "      emb = char_emb[torch.tensor([context])]\n",
        "      flatten_emb = emb.view(emb.shape[0], -1)\n",
        "      Z = flatten_emb @ W1 + b1\n",
        "      Z = batch_norm_scale * (Z - batch_norm_mean) * (batch_norm_var + 1e-5)**-0.5 + batch_norm_shift\n",
        "      A = torch.tanh(Z)\n",
        "      logits = A @ W2 + b2\n",
        "\n",
        "      # sample\n",
        "      probs = F.softmax(logits, dim=1)\n",
        "      idx = torch.multinomial(probs, num_samples=1, generator=generator).item()\n",
        "      context = context[1:] + [idx]\n",
        "      out.append(idx)\n",
        "      if idx == 0:\n",
        "        break\n",
        "\n",
        "    print(''.join(idx_to_char[i] for i in out))"
      ]
    },
    {
      "cell_type": "code",
      "execution_count": null,
      "metadata": {
        "id": "djwJxASKz8Zq"
      },
      "outputs": [],
      "source": []
    }
  ],
  "metadata": {
    "colab": {
      "provenance": []
    },
    "kernelspec": {
      "display_name": "Python 3",
      "name": "python3"
    },
    "language_info": {
      "name": "python"
    }
  },
  "nbformat": 4,
  "nbformat_minor": 0
}
